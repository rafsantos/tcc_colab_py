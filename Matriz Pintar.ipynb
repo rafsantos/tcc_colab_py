{
  "nbformat": 4,
  "nbformat_minor": 0,
  "metadata": {
    "colab": {
      "provenance": [],
      "authorship_tag": "ABX9TyOOlu+QMvRxQMj59wvWqbkB",
      "include_colab_link": true
    },
    "kernelspec": {
      "name": "python3",
      "display_name": "Python 3"
    },
    "language_info": {
      "name": "python"
    }
  },
  "cells": [
    {
      "cell_type": "markdown",
      "metadata": {
        "id": "view-in-github",
        "colab_type": "text"
      },
      "source": [
        "<a href=\"https://colab.research.google.com/github/rafsantos/tcc_colab_py/blob/main/Matriz%20Pintar.ipynb\" target=\"_parent\"><img src=\"https://colab.research.google.com/assets/colab-badge.svg\" alt=\"Open In Colab\"/></a>"
      ]
    },
    {
      "cell_type": "code",
      "source": [
        "# @title Ferramentas\n",
        "import numpy as np\n",
        "from PIL import Image, ImageDraw, ImageFont\n",
        "import requests\n",
        "\n",
        "#Desenha grade em uma imagem com um determinado intervalo\n",
        "def grade(img,intervalo):\n",
        "  img = np.array(img)\n",
        "  img[::intervalo] = 0\n",
        "  img[:,::intervalo] = 0\n",
        "  img = Image.fromarray(img.astype('uint8'),'L')\n",
        "  return img\n",
        "\n",
        "def leImagemWeb(url):\n",
        "  im = Image.open(requests.get(url, stream=True).raw).convert('L')\n",
        "  return im\n",
        "\n",
        "#pixelando imagem\n",
        "def ajustaVisual(img,pixH,fator):\n",
        "  #compacta primeiro\n",
        "  img = encolhe(img,pixH)\n",
        "  img = img.resize((img.size[0]*fator,img.size[1]*fator),resample=Image.NEAREST)\n",
        "  return img\n",
        "\n",
        "#Reduz imagem para quantidade de pixels na horizontal\n",
        "def encolhe(img,pixH):\n",
        "  img = img.resize((pixH,int(pixH*img.height/img.width)),resample=Image.NEAREST)\n",
        "  return img\n",
        "\n",
        "# Escreve os pixels por cima da imagem ajustada a fator\n",
        "def escrevePixels(img,fator):\n",
        "  draw = ImageDraw.Draw(img)\n",
        "  font = ImageFont.load_default()\n",
        "  img_arr = np.transpose(np.array(img))\n",
        "  for y in range(0,img_arr.shape[1],fator):\n",
        "    for x in range(0,img_arr.shape[0],fator):\n",
        "      txt = str((img_arr)[x,y])\n",
        "      txtbox = font.getbbox(txt)\n",
        "      #Alinhando o texto no centro do quadrado\n",
        "      draw.text((x + fator/2 - txtbox[2]/2, y + fator/2 - txtbox[3]/2 ), txt, anchor='mm')\n",
        "  return img\n",
        "\n",
        "# Escreve os pixels por cima da imagem ajustada a fator -\n",
        "# Saida é imagem em branco com Pixels\n",
        "def escrevePixelsSemImagem(img,fator):\n",
        "  img_out = Image.new(mode=\"L\", size=(img.size[0],img.size[1]),color = (255))\n",
        "  draw = ImageDraw.Draw(img_out)\n",
        "  font = ImageFont.load_default()\n",
        "\n",
        "  img_arr = np.transpose(np.array(img))\n",
        "\n",
        "  for y in range(0,img_arr.shape[1],fator):\n",
        "    for x in range(0,img_arr.shape[0],fator):\n",
        "      txt = str((img_arr)[x,y])\n",
        "      txtbox = font.getbbox(txt)\n",
        "      #Alinhando o texto no centro do quadrado\n",
        "      draw.text((x + fator/2 - txtbox[2]/2, y + fator/2 - txtbox[3]/2 ), txt, anchor='mm')\n",
        "  return img_out\n",
        "\n",
        "def animacaoGIF(frames_arr,fator):\n",
        "  #Os frames sao uma lista de imagens de cada frae da animacao\n",
        "  #Preciso ampliar cada um primeiro\n",
        "  frames_out = []\n",
        "  for frame in frames:\n",
        "    #Para cada frame, vou ampliar e gravar na lista de saida\n",
        "\n",
        "    frame = frame.resize((frame.size[0]*fator,frame.size[1]*fator),resample=Image.NEAREST)\n",
        "    #display(frame)\n",
        "    frames_out.append(frame)\n",
        "  return frames_out\n"
      ],
      "metadata": {
        "id": "5QGuLs6KSsJr"
      },
      "execution_count": 18,
      "outputs": []
    },
    {
      "cell_type": "code",
      "source": [
        "# @title Tipo de Filtro\n",
        "import numpy as np\n",
        "from PIL import Image, ImageDraw, ImageFont\n",
        "import requests\n",
        "\n",
        "dropdown = 'Aresta V 3x3' #@param [\"Blur 4x4\",\"Blur 3x3\", \"Aresta H 3x3\", \"Aresta V 3x3\", \"Aresta H 4x4\", \"Aresta V 4x4\"]\n",
        "\n",
        "if dropdown == 'Blur 3x3':\n",
        "  filtro = np.array([\n",
        "    [1, 1, 1],\n",
        "    [1, 1, 1],\n",
        "    [1, 1, 1]\n",
        "    ], dtype=np.float32)/9.0\n",
        "\n",
        "if dropdown == 'Blur 4x4':\n",
        "  filtro = np.array([\n",
        "    [1, 1, 1, 1],\n",
        "    [1, 1, 1, 1],\n",
        "    [1, 1, 1, 1],\n",
        "    [1, 1, 1, 1]\n",
        "    ], dtype=np.float32)/16.0\n",
        "\n",
        "if dropdown == 'Aresta H 3x3':\n",
        "  filtro = np.array([\n",
        "    [-1, 0, 1],\n",
        "    [-1, 0, 1],\n",
        "    [-1, 0, 1],\n",
        "    ], dtype=np.float32)/1.0\n",
        "\n",
        "if dropdown == 'Aresta V 3x3':\n",
        "  filtro = np.array([\n",
        "    [+1,  1,   1],\n",
        "    [ 0,  0,   0],\n",
        "    [-1, -1,  -1]\n",
        "    ], dtype=np.float32)/1.0\n",
        "\n",
        "if dropdown == 'Aresta H 4x4':\n",
        "  filtro = np.array([\n",
        "    [-1, -1, 1, 1],\n",
        "    [-1, -1, 1, 1],\n",
        "    [-1, -1, 1, 1],\n",
        "    [-1, -1, 1, 1]\n",
        "    ], dtype=np.float32)/1.0\n",
        "\n",
        "if dropdown == 'Aresta V 4x4':\n",
        "  filtro = np.array([\n",
        "    [+10,  10,   10, 10],\n",
        "    [ 10,  10,   10, 10],\n",
        "    [-10, -10, -10, -10],\n",
        "    [-10, -10, -10, -10]\n",
        "    ], dtype=np.float32)/16.0"
      ],
      "metadata": {
        "cellView": "form",
        "id": "pmvunW0TaCAj"
      },
      "execution_count": null,
      "outputs": []
    },
    {
      "cell_type": "code",
      "source": [
        "fator = 20\n",
        "pixHoriz = 20\n",
        "numCores = 2\n",
        "# Vou obter uma imagem da web\n",
        "#url = (\"https://i.ibb.co/D81PNZz/image.png\")\n",
        "url = \"https://encrypted-tbn0.gstatic.com/images?q=tbn:ANd9GcSzFVq9sCTckUxKmHj7YTLlKQH6nkicNS_UQ9XUdvdeLg&s\"\n",
        "#url = 'https://live.staticflickr.com/4830/44200095760_4d993be1cb_b.jpg'\n",
        "#Mario\n",
        "url = \"https://p.turbosquid.com/ts-thumb/DK/rVqefa/IdB4aZrN/0/jpg/1408568906/600x600/fit_q87/a2fc0eb49b241e273ed52dec1bd7d3cf63548f8c/0.jpg\"\n"
      ],
      "metadata": {
        "id": "dpz2q5Q0TIsE"
      },
      "execution_count": 14,
      "outputs": []
    },
    {
      "cell_type": "code",
      "execution_count": 49,
      "metadata": {
        "colab": {
          "base_uri": "https://localhost:8080/",
          "height": 1000
        },
        "id": "-8H0uh4QPs6h",
        "outputId": "269fcc57-ee3f-457b-ca80-3ac49fe75818"
      },
      "outputs": [
        {
          "output_type": "display_data",
          "data": {
            "text/plain": [
              "<PIL.Image.Image image mode=L size=400x400>"
            ],
            "image/png": "[encoded data removed]"
          },
          "metadata": {}
        },
        {
          "output_type": "display_data",
          "data": {
            "text/plain": [
              "<PIL.Image.Image image mode=L size=400x400>"
            ],
            "image/png": "[encoded data removed]"
          },
          "metadata": {}
        },
        {
          "output_type": "display_data",
          "data": {
            "text/plain": [
              "<PIL.Image.Image image mode=L size=400x400>"
            ],
            "image/png": "[encoded data removed]"
          },
          "metadata": {}
        }
      ],
      "source": [
        "import numpy as np\n",
        "from PIL import Image, ImageDraw, ImageFont, ImageOps\n",
        "import requests\n",
        "\n",
        "\n",
        "##### Funcoes #########\n",
        "# Função convolução\n",
        "\n",
        "img = leImagemWeb(url)\n",
        "img = ajustaVisual(img,pixHoriz,fator)\n",
        "img = img.convert(\"L\")\n",
        "display(img)\n",
        "img = img.quantize(colors=2, dither=None)\n",
        "\n",
        "#Ajustando exibicao da imagem de entrada\n",
        "img = ajustaVisual(img,pixHoriz,fator)\n",
        "img = escrevePixelsSemImagem(img,fator)\n",
        "img = grade(img,fator)\n",
        "display(img)\n",
        "\n",
        "#Ajustando exibicao da imagem de entrada\n",
        "img = leImagemWeb(url)\n",
        "img = ajustaVisual(img,pixHoriz,fator)\n",
        "#img = escrevePixels(img,fator)\n",
        "\n",
        "\n",
        "\n",
        "\n",
        "\n",
        "img = grade(img,fator)\n",
        "display(img)\n",
        "\n",
        "\n"
      ]
    }
  ]
}