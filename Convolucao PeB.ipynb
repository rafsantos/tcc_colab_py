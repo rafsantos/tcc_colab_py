{
  "nbformat": 4,
  "nbformat_minor": 0,
  "metadata": {
    "colab": {
      "provenance": [],
      "authorship_tag": "ABX9TyPSaGIqqMvQx9JOWr2USuS9",
      "include_colab_link": true
    },
    "kernelspec": {
      "name": "python3",
      "display_name": "Python 3"
    },
    "language_info": {
      "name": "python"
    }
  },
  "cells": [
    {
      "cell_type": "markdown",
      "metadata": {
        "id": "view-in-github",
        "colab_type": "text"
      },
      "source": [
        "<a href=\"https://colab.research.google.com/github/rafsantos/tcc_colab_py/blob/main/Convolucao%20PeB.ipynb\" target=\"_parent\"><img src=\"https://colab.research.google.com/assets/colab-badge.svg\" alt=\"Open In Colab\"/></a>"
      ]
    },
    {
      "cell_type": "code",
      "source": [
        "# @title Ferramentas\n",
        "import numpy as np\n",
        "from PIL import Image, ImageDraw, ImageFont\n",
        "import requests\n",
        "\n",
        "# Função convolução\n",
        "def convolve(image, filter):\n",
        "  padding = (int(filter.shape[0]/2),int(filter.shape[1]/2))\n",
        "  if(image.ndim == 2):\n",
        "      image = np.expand_dims(image, axis=-1)\n",
        "  if(filter.ndim == 2):\n",
        "      filter = np.repeat(np.expand_dims(filter, axis=-1), image.shape[-1], axis=-1)\n",
        "  if(filter.shape[-1] == 1):\n",
        "      filter = np.repeat(filter, image.shape[-1], axis=-1)\n",
        "  assert image.shape[-1] == filter.shape[-1]\n",
        "  size_x, size_y = filter.shape[:2]\n",
        "  width, height = image.shape[:2]\n",
        "  padded_image = np.pad(image, [\n",
        "      (padding[0], padding[0]),\n",
        "      (padding[1], padding[1]),\n",
        "      (0, 0)],mode='edge')\n",
        "\n",
        "  output_array = image\n",
        "  #Para fazer a animacao vou armazenar os frames em uma lista\n",
        "  frames = []\n",
        "  # So vou pegar 30 imagens de todo o processo\n",
        "  keyFrame = int(image.shape[0]*image.shape[1]/30)\n",
        "  count = 0\n",
        "  for x in range(padded_image.shape[0] - size_x +1):\n",
        "    for y in range(padded_image.shape[1] - size_y +1):\n",
        "      # Janela movel do filtro\n",
        "      window = padded_image[x:x + size_x, y:y + size_y]\n",
        "      # Soma do produto da janela fo filtro e área da imagem\n",
        "      output_values = np.sum(filter * window, axis=(0, 1))\n",
        "      # Guarda resultado no array resultado\n",
        "      output_array[x, y] = np.asarray(output_values)\n",
        "\n",
        "      # Se for um frame para animacao, vou guardar\n",
        "      if (count)%keyFrame == 0:\n",
        "        if(output_array.shape[-1] == 1):\n",
        "          output_array = output_array[:,:,0]\n",
        "        img = Image.fromarray(output_array.astype('uint8'))\n",
        "        frames.append(img)\n",
        "      count += 1\n",
        "  if(output_array.shape[-1] == 1):\n",
        "    output_array = output_array[:,:,0]\n",
        "  img = Image.fromarray(output_array.astype('uint8'))\n",
        "  return output_array, frames\n",
        "\n",
        "#Desenha grade em uma imagem com um determinado intervalo\n",
        "def grade(img,intervalo):\n",
        "  img = np.array(img)\n",
        "  img[::intervalo] = 0\n",
        "  img[:,::intervalo] = 0\n",
        "  img = Image.fromarray(img.astype('uint8'),'L')\n",
        "  return img\n",
        "\n",
        "def leImagemWeb(url):\n",
        "  im = Image.open(requests.get(url, stream=True).raw).convert('L')\n",
        "  return im\n",
        "\n",
        "#pixelando imagem\n",
        "def ajustaVisual(img,pixH,fator):\n",
        "  #compacta primeiro\n",
        "  img = encolhe(img,pixH)\n",
        "  img = img.resize((img.size[0]*fator,img.size[1]*fator),resample=Image.NEAREST)\n",
        "  return img\n",
        "\n",
        "#Reduz imagem para quantidade de pixels na horizontal\n",
        "def encolhe(img,pixH):\n",
        "  img = img.resize((pixH,int(pixH*img.height/img.width)),resample=Image.NEAREST)\n",
        "  return img\n",
        "\n",
        "# Escreve os pixels por cima da imagem ajustada a fator\n",
        "def escrevePixels(img,fator):\n",
        "  draw = ImageDraw.Draw(img)\n",
        "  font = ImageFont.load_default()\n",
        "  img_arr = np.transpose(np.array(img))\n",
        "  for y in range(0,img_arr.shape[1],fator):\n",
        "    for x in range(0,img_arr.shape[0],fator):\n",
        "      txt = str((img_arr)[x,y])\n",
        "      txtbox = font.getbbox(txt)\n",
        "      #Alinhando o texto no centro do quadrado\n",
        "      draw.text((x + fator/2 - txtbox[2]/2, y + fator/2 - txtbox[3]/2 ), txt, anchor='mm')\n",
        "  return img\n",
        "\n",
        "def animacaoGIF(frames_arr,fator):\n",
        "  #Os frames sao uma lista de imagens de cada frae da animacao\n",
        "  #Preciso ampliar cada um primeiro\n",
        "  frames_out = []\n",
        "  for frame in frames:\n",
        "    #Para cada frame, vou ampliar e gravar na lista de saida\n",
        "\n",
        "    frame = frame.resize((frame.size[0]*fator,frame.size[1]*fator),resample=Image.NEAREST)\n",
        "    #display(frame)\n",
        "    frames_out.append(frame)\n",
        "  return frames_out\n"
      ],
      "metadata": {
        "cellView": "form",
        "id": "5QGuLs6KSsJr"
      },
      "execution_count": 31,
      "outputs": []
    },
    {
      "cell_type": "code",
      "source": [
        "# @title Tipo de Filtro\n",
        "import numpy as np\n",
        "from PIL import Image, ImageDraw, ImageFont\n",
        "import requests\n",
        "\n",
        "dropdown = 'Blur 3x3' #@param [\"Blur 5x5\",\"Blur 3x3\", \"Aresta H 3x3\", \"Aresta V 3x3\", \"Aresta H 5x5\", \"Aresta V 5x5\"]\n",
        "\n",
        "if dropdown == 'Blur 3x3':\n",
        "  filtro = np.array([\n",
        "    [1, 1, 1],\n",
        "    [1, 1, 1],\n",
        "    [1, 1, 1]\n",
        "    ], dtype=np.float32)/9.0\n",
        "\n",
        "if dropdown == 'Blur 5x5':\n",
        "  filtro = np.array([\n",
        "    [1, 1, 1, 1, 1],\n",
        "    [1, 1, 1, 1, 1],\n",
        "    [1, 1, 1, 1, 1],\n",
        "    [1, 1, 1, 1, 1],\n",
        "    [1, 1, 1, 1, 1]\n",
        "    ], dtype=np.float32)/16.0\n",
        "\n",
        "if dropdown == 'Aresta H 3x3':\n",
        "  filtro = np.array([\n",
        "    [-1, 0, 1],\n",
        "    [-1, 0, 1],\n",
        "    [-1, 0, 1],\n",
        "    ], dtype=np.float32)/1.0\n",
        "\n",
        "if dropdown == 'Aresta V 3x3':\n",
        "  filtro = np.array([\n",
        "    [+1,  1,   1],\n",
        "    [ 0,  0,   0],\n",
        "    [-1, -1,  -1]\n",
        "    ], dtype=np.float32)/1.0\n",
        "\n",
        "if dropdown == 'Aresta H 5x5':\n",
        "  filtro = np.array([\n",
        "    [-1, -1, 1, 1, 1],\n",
        "    [-1, -1, 1, 1, 1],\n",
        "    [-1, -1, 1, 1, 1],\n",
        "    [-1, -1, 1, 1, 1],\n",
        "    [-1, -1, 1, 1, 1]\n",
        "    ], dtype=np.float32)/1.0\n",
        "\n",
        "if dropdown == 'Aresta V 5x5':\n",
        "  filtro = np.array([\n",
        "    [+10,  10,   10, 10],\n",
        "    [ 10,  10,   10, 10],\n",
        "    [-10, -10, -10, -10],\n",
        "    [-10, -10, -10, -10]\n",
        "    ], dtype=np.float32)/16.0"
      ],
      "metadata": {
        "cellView": "form",
        "id": "pmvunW0TaCAj"
      },
      "execution_count": 37,
      "outputs": []
    },
    {
      "cell_type": "code",
      "source": [
        "fator = 20\n",
        "pixHoriz = 20\n",
        "# Vou obter uma imagem da web\n",
        "#url = (\"https://i.ibb.co/D81PNZz/image.png\")\n",
        "url = \"https://encrypted-tbn0.gstatic.com/images?q=tbn:ANd9GcSzFVq9sCTckUxKmHj7YTLlKQH6nkicNS_UQ9XUdvdeLg&s\"\n",
        "#url = 'https://live.staticflickr.com/4830/44200095760_4d993be1cb_b.jpg'\n"
      ],
      "metadata": {
        "id": "dpz2q5Q0TIsE"
      },
      "execution_count": 26,
      "outputs": []
    },
    {
      "cell_type": "code",
      "execution_count": 34,
      "metadata": {
        "colab": {
          "base_uri": "https://localhost:8080/",
          "height": 834
        },
        "id": "-8H0uh4QPs6h",
        "outputId": "af5f2cdc-365c-4520-c2be-0eb01039d3c7"
      },
      "outputs": [
        {
          "output_type": "display_data",
          "data": {
            "text/plain": [
              "<PIL.Image.Image image mode=L size=400x400>"
            ],
            "image/png": "[encoded data removed]"
          },
          "metadata": {}
        },
        {
          "output_type": "stream",
          "name": "stdout",
          "text": [
            "\n"
          ]
        },
        {
          "output_type": "display_data",
          "data": {
            "text/plain": [
              "<PIL.Image.Image image mode=L size=400x400>"
            ],
            "image/png": "[encoded data removed]"
          },
          "metadata": {}
        }
      ],
      "source": [
        "import numpy as np\n",
        "from PIL import Image, ImageDraw, ImageFont\n",
        "import requests\n",
        "\n",
        "def convolucao(image, filter):\n",
        "   return image\n",
        "\n",
        "##### Funcoes #########\n",
        "# Função convolução\n",
        "\n",
        "img = leImagemWeb(url)\n",
        "\n",
        "#Ajustando exibicao da imagem de entrada\n",
        "img_in = ajustaVisual(img,pixHoriz,fator)\n",
        "img_in = escrevePixels(img_in,fator)\n",
        "img_in = grade(img_in,fator)\n",
        "display(img_in)\n",
        "\n",
        "#processando a imagem\n",
        "img = encolhe(img,pixHoriz)\n",
        "img_arr = np.array(img)\n",
        "img_arr,frames = convolve(img_arr,filtro)\n",
        "img = Image.fromarray(img_arr.astype('uint8'))\n",
        "img = ajustaVisual(img,pixHoriz,fator)\n",
        "\n",
        "#\n",
        "#escrevendo os valores de cada pixel\n",
        "img = escrevePixels(img,fator)\n",
        "\n",
        "#Desenha grade\n",
        "img = grade(img,fator)\n",
        "print('')\n",
        "display(img)\n",
        "\n",
        "\n",
        "frames = animacaoGIF(frames,fator)\n",
        "frames[0].save('saida.gif', format='GIF', append_images=frames[1:], save_all=True, duration=100, loop=0)\n"
      ]
    }
  ]
}